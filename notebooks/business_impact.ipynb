{
 "cells": [
  {
   "cell_type": "markdown",
   "id": "6934b707",
   "metadata": {},
   "source": [
    "- **Estimated annualized revenue gain:** Model-driven promo allocation could yield ~€15.02M/year additional sales over baseline, based on test window uplift."
   ]
  },
  {
   "cell_type": "code",
   "execution_count": 1,
   "id": "c1de95d7",
   "metadata": {},
   "outputs": [],
   "source": [
    "import os\n",
    "import pandas as pd"
   ]
  },
  {
   "cell_type": "code",
   "execution_count": null,
   "id": "c561703a",
   "metadata": {},
   "outputs": [
    {
     "name": "stdout",
     "output_type": "stream",
     "text": [
      "Total Predicted Gain: 1,733,244.24\n",
      "Total True Sales: 279,945,731.00\n",
      "Annualized Gain: 15,021,450.09\n"
     ]
    }
   ],
   "source": [
    "df = pd.read_csv(\"reports/tableau/test_predictions.csv\")\n",
    "\n",
    "df[\"true_sales\"] = df[\"y_true\"]\n",
    "df[\"pred_sales\"] = df[\"y_pred\"]\n",
    "\n",
    "df[\"diff\"] = df[\"pred_sales\"] - df[\"true_sales\"]\n",
    "\n",
    "df = df.dropna(subset=[\"diff\"])\n",
    "\n",
    "total_diff = df[\"diff\"].sum()\n",
    "total_true = df[\"true_sales\"].sum()\n",
    "\n",
    "print(f\"Total Predicted Gain: {total_diff:,.2f}\")\n",
    "print(f\"Total True Sales: {total_true:,.2f}\")\n",
    "\n",
    "weeks_in_year = 52\n",
    "gain_per_year = total_diff * (weeks_in_year / 6)  # 6 weeks in test set\n",
    "print(f\"Annualized Gain: {gain_per_year:,.2f}\")"
   ]
  }
 ],
 "metadata": {
  "kernelspec": {
   "display_name": "base",
   "language": "python",
   "name": "python3"
  },
  "language_info": {
   "codemirror_mode": {
    "name": "ipython",
    "version": 3
   },
   "file_extension": ".py",
   "mimetype": "text/x-python",
   "name": "python",
   "nbconvert_exporter": "python",
   "pygments_lexer": "ipython3",
   "version": "3.11.4"
  }
 },
 "nbformat": 4,
 "nbformat_minor": 5
}
